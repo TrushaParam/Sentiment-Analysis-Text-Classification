{
  "cells": [
    {
      "cell_type": "markdown",
      "id": "6730fecf",
      "metadata": {
        "id": "6730fecf"
      },
      "source": [
        "## Assignment 1 \n",
        "### Trusha a1813762"
      ]
    },
    {
      "cell_type": "code",
      "execution_count": 1,
      "id": "f2853633",
      "metadata": {
        "colab": {
          "base_uri": "https://localhost:8080/"
        },
        "id": "f2853633",
        "outputId": "fa467735-9864-407b-99fb-269e467c4864"
      },
      "outputs": [
        {
          "output_type": "stream",
          "name": "stderr",
          "text": [
            "[nltk_data] Downloading package punkt to /root/nltk_data...\n",
            "[nltk_data]   Package punkt is already up-to-date!\n",
            "[nltk_data] Downloading package stopwords to /root/nltk_data...\n",
            "[nltk_data]   Package stopwords is already up-to-date!\n",
            "[nltk_data] Downloading package wordnet to /root/nltk_data...\n",
            "[nltk_data]   Package wordnet is already up-to-date!\n",
            "[nltk_data] Downloading package omw-1.4 to /root/nltk_data...\n",
            "[nltk_data]   Package omw-1.4 is already up-to-date!\n",
            "[nltk_data] Downloading package vader_lexicon to /root/nltk_data...\n",
            "[nltk_data]   Package vader_lexicon is already up-to-date!\n"
          ]
        }
      ],
      "source": [
        "import string\n",
        "import nltk\n",
        "nltk.download('punkt')\n",
        "from nltk.tokenize import word_tokenize\n",
        "nltk.download('stopwords')\n",
        "from nltk.corpus import stopwords \n",
        "nltk.download('wordnet')\n",
        "nltk.download('omw-1.4')\n",
        "nltk.download('vader_lexicon')\n",
        "from nltk.stem import WordNetLemmatizer\n",
        "import re\n",
        "import collections\n",
        "from collections import Counter\n",
        "import matplotlib.pyplot as plt\n",
        "from wordcloud import WordCloud \n",
        "from sklearn.feature_extraction.text import TfidfVectorizer, CountVectorizer\n",
        "from sklearn.metrics import accuracy_score\n",
        "from sklearn.model_selection import cross_validate, StratifiedKFold\n",
        "import sklearn.naive_bayes\n",
        "from sklearn.naive_bayes import MultinomialNB, BernoulliNB\n",
        "from sklearn.linear_model import LogisticRegression\n",
        "import numpy as np\n",
        "from sklearn.model_selection import learning_curve\n",
        "import pandas as pd\n",
        "from sklearn.metrics import precision_score, recall_score, f1_score, confusion_matrix\n",
        "from nltk.sentiment.vader import SentimentIntensityAnalyzer"
      ]
    },
    {
      "cell_type": "markdown",
      "id": "3df2aac6",
      "metadata": {
        "id": "3df2aac6"
      },
      "source": [
        "### 1. Reading datasets"
      ]
    },
    {
      "cell_type": "code",
      "execution_count": 2,
      "id": "e967e07b",
      "metadata": {
        "id": "e967e07b"
      },
      "outputs": [],
      "source": [
        "train_file = open(\"reviews_train.txt\", encoding = \"latin-1\")\n",
        "test_file = open(\"reviews_test.txt\", encoding = \"latin-1\")"
      ]
    },
    {
      "cell_type": "code",
      "execution_count": 3,
      "id": "37bd55f8",
      "metadata": {
        "id": "37bd55f8"
      },
      "outputs": [],
      "source": [
        "train_data = train_file.readlines()\n",
        "test_data = test_file.readlines()"
      ]
    },
    {
      "cell_type": "code",
      "execution_count": 4,
      "id": "8eb478f5",
      "metadata": {
        "id": "8eb478f5"
      },
      "outputs": [],
      "source": [
        "train_data_strip = []\n",
        "for i,j in enumerate(train_data):\n",
        "        train_data_strip.append(j.strip(\"\\n\"))\n",
        "        \n",
        "\n",
        "test_data_strip = []\n",
        "for i,j in enumerate(test_data):\n",
        "        test_data_strip.append(j.strip(\"\\n\"))"
      ]
    },
    {
      "cell_type": "code",
      "execution_count": 5,
      "id": "e9c6825e",
      "metadata": {
        "id": "e9c6825e"
      },
      "outputs": [],
      "source": [
        "X_train = []\n",
        "X_test = []\n",
        "y_train = []\n",
        "y_test = []\n",
        "\n",
        "for i,j in enumerate(train_data_strip):\n",
        "#     strip_j = j.strip(\"\\n\")\n",
        "    words_train = j.split()\n",
        "    y_train.append(words_train[0])\n",
        "    X_train.append(words_train[1:])\n",
        "    X_train[i] = \" \".join(X_train[i])\n",
        "    \n",
        "for i,j in enumerate(test_data_strip):\n",
        "#     strip_j = j.strip(\"\\n\")\n",
        "    words_test = j.split()\n",
        "    y_test.append(words_test[0])\n",
        "    X_test.append(words_test[1:])\n",
        "    X_test[i] = \" \".join(X_test[i])"
      ]
    },
    {
      "cell_type": "code",
      "execution_count": 6,
      "id": "36decba3",
      "metadata": {
        "id": "36decba3"
      },
      "outputs": [],
      "source": [
        "y_train = list(map(lambda x: x.replace('__label__1', 'negative'), y_train))\n",
        "y_train = list(map(lambda x: x.replace('__label__2', 'positive'), y_train))\n",
        "# y_train\n",
        "y_test = list(map(lambda x: x.replace('__label__1', 'negative'), y_test))\n",
        "y_test = list(map(lambda x: x.replace('__label__2', 'positive'), y_test))\n",
        "# y_test"
      ]
    },
    {
      "cell_type": "markdown",
      "id": "31d75afc",
      "metadata": {
        "id": "31d75afc"
      },
      "source": [
        "### 2. Pre-processing"
      ]
    },
    {
      "cell_type": "code",
      "execution_count": 7,
      "id": "207f395f",
      "metadata": {
        "id": "207f395f"
      },
      "outputs": [],
      "source": [
        "# Version 1 : Remove punctuation, stopwords, non-alphanumeric characters\n",
        "\n",
        "# Punctuation\n",
        "X_train_punctuation = [line.translate(line.maketrans('', '', string.punctuation)) for line in X_train]\n",
        "X_test_punctuation = [line.translate(line.maketrans('', '', string.punctuation)) for line in X_test]\n",
        "\n",
        "# Tokenize \n",
        "X_train_token = [word_tokenize(text) for text in X_train_punctuation]\n",
        "X_test_token = [word_tokenize(text) for text in X_test_punctuation]\n",
        "\n"
      ]
    },
    {
      "cell_type": "code",
      "execution_count": 8,
      "id": "e5564bdf",
      "metadata": {
        "id": "e5564bdf"
      },
      "outputs": [],
      "source": [
        "# non-alphanumeric\n",
        "X_train_alpha = [[re.sub(r'[^a-zA-Z0-9]','',i)for i in line ] for line in X_train_token]\n",
        "X_test_alpha = [[re.sub(r'[^a-zA-Z0-9]', '', i) for i in line] for line in X_test_token]"
      ]
    },
    {
      "cell_type": "code",
      "execution_count": 9,
      "id": "55b00b8f",
      "metadata": {
        "id": "55b00b8f"
      },
      "outputs": [],
      "source": [
        "# Stopwords\n",
        "stop_words = set(stopwords.words('english'))\n",
        "X_train_version1 = [[word for word in line if word.lower() not in stop_words]for line in X_train_alpha]\n",
        "X_test_version1 = [[word for word in line if word.lower() not in stop_words]for line in X_test_alpha]"
      ]
    },
    {
      "cell_type": "code",
      "execution_count": 10,
      "id": "57cdff7c",
      "metadata": {
        "id": "57cdff7c"
      },
      "outputs": [],
      "source": [
        "# Version 2 : Lowercase \n",
        "X_train_version2 = [[word.lower() for word in line]for line in X_train_version1]\n",
        "X_test_version2 = [[word.lower() for word in line]for line in X_test_version1]"
      ]
    },
    {
      "cell_type": "code",
      "execution_count": 11,
      "id": "a5160358",
      "metadata": {
        "id": "a5160358"
      },
      "outputs": [],
      "source": [
        "# Version 3 : Lemmetization\n",
        "lemmatizer = WordNetLemmatizer()\n",
        "X_train_version3 = [[lemmatizer.lemmatize(word) for word in line]for line in X_train_version2]\n",
        "X_test_version3 = [[lemmatizer.lemmatize(word) for word in line]for line in X_test_version2]"
      ]
    },
    {
      "cell_type": "markdown",
      "id": "333cefa8",
      "metadata": {
        "id": "333cefa8"
      },
      "source": [
        "### 3. Dataset analysis"
      ]
    },
    {
      "cell_type": "code",
      "execution_count": 12,
      "id": "c292820d",
      "metadata": {
        "colab": {
          "base_uri": "https://localhost:8080/",
          "height": 319
        },
        "id": "c292820d",
        "outputId": "a6490a5b-726c-43e9-e2e8-96c5ea0c3a90"
      },
      "outputs": [
        {
          "output_type": "stream",
          "name": "stdout",
          "text": [
            "Proportions of the labels in the Training dataset\n",
            "Positive count : 149698\n",
            "Negative count : 150302\n"
          ]
        },
        {
          "output_type": "display_data",
          "data": {
            "text/plain": [
              "<Figure size 288x288 with 1 Axes>"
            ],
            "image/png": "[encoded data removed]"
          },
          "metadata": {
            "needs_background": "light"
          }
        }
      ],
      "source": [
        "# Proportion of labels in training dataset\n",
        "y_train_word_freq = Counter(y_train)\n",
        "\n",
        "print (\"Proportions of the labels in the Training dataset\") \n",
        "print(f'Positive count : {y_train_word_freq[\"positive\"]}')\n",
        "print(f'Negative count : {y_train_word_freq[\"negative\"]}')\n",
        "\n",
        "plt.figure(figsize=(4,4))\n",
        "plt.bar(y_train_word_freq.keys(), y_train_word_freq.values())\n",
        "plt.show()"
      ]
    },
    {
      "cell_type": "code",
      "execution_count": 13,
      "id": "04b5a558",
      "metadata": {
        "scrolled": true,
        "colab": {
          "base_uri": "https://localhost:8080/",
          "height": 319
        },
        "id": "04b5a558",
        "outputId": "375132ed-f662-428d-aac2-23f8b8f5cd81"
      },
      "outputs": [
        {
          "output_type": "stream",
          "name": "stdout",
          "text": [
            "Proportions of the labels in the Testing dataset\n",
            "Positive count : 50302\n",
            "Negative count : 49698\n"
          ]
        },
        {
          "output_type": "display_data",
          "data": {
            "text/plain": [
              "<Figure size 288x288 with 1 Axes>"
            ],
            "image/png": "[encoded data removed]"
          },
          "metadata": {
            "needs_background": "light"
          }
        }
      ],
      "source": [
        "#Proportion of labels in testing dataset\n",
        "y_test_word_freq = Counter(y_test)\n",
        "\n",
        "print (\"Proportions of the labels in the Testing dataset\") \n",
        "print(f'Positive count : {y_test_word_freq[\"positive\"]}')\n",
        "print(f'Negative count : {y_test_word_freq[\"negative\"]}')\n",
        "\n",
        "plt.figure(figsize=(4,4))\n",
        "plt.bar(y_test_word_freq.keys(), y_test_word_freq.values())\n",
        "plt.show()"
      ]
    },
    {
      "cell_type": "markdown",
      "source": [
        "Analysis of the dataset reveals that there is a balanced distribution of positive and negative sentiment in both the training and testing sets. The training set has a positive to negative sentiment ratio of 49.9% to 50.1%, while the testing set has a positive to negative sentiment ratio of 50.3% to 49.7%.\n",
        "\n",
        "A more thorough evaluation of the model's performance can be obtained by using metrics like precision, recall, and F1-score that take both false positives and false negatives into account.\n",
        "\n",
        "The class imbalance problem is less likely to arise if the ratio of positive and negative labels is nearly equal in both the training and testing sets. Accuracy, precision, recall, and F1-score are examples of performance metrics that can be used to evaluate the effectiveness of the model in this situation."
      ],
      "metadata": {
        "id": "5Imi8YRzefog"
      },
      "id": "5Imi8YRzefog"
    },
    {
      "cell_type": "code",
      "execution_count": 14,
      "id": "7d085d54",
      "metadata": {
        "colab": {
          "base_uri": "https://localhost:8080/"
        },
        "id": "7d085d54",
        "outputId": "a26a1f5d-3bb5-4948-bf72-33b310a181ed"
      },
      "outputs": [
        {
          "output_type": "stream",
          "name": "stdout",
          "text": [
            "Unique words in version 1: 488912\n",
            "Unique words in version 2: 401735\n",
            "Unique words in version 3: 387308\n"
          ]
        }
      ],
      "source": [
        "# Unique words\n",
        "\n",
        "def unique_words(list_of_lists):\n",
        "    unique_set = set()\n",
        "    for l in list_of_lists:\n",
        "        for word in l:\n",
        "            unique_set.add(word)\n",
        "    return unique_set\n",
        "\n",
        "\n",
        "unique_version1 = unique_words(X_train_version1)\n",
        "unique_version2 = unique_words(X_train_version2)\n",
        "unique_version3 = unique_words(X_train_version3)\n",
        "\n",
        "print(f'Unique words in version 1: {len(unique_version1)}')\n",
        "print(f'Unique words in version 2: {len(unique_version2)}')\n",
        "print(f'Unique words in version 3: {len(unique_version3)}')"
      ]
    },
    {
      "cell_type": "code",
      "execution_count": 15,
      "id": "25348277",
      "metadata": {
        "id": "25348277"
      },
      "outputs": [],
      "source": [
        "#Converting list of Tokens into sentences\n",
        "X_train_version1_sent = [\" \".join(word) for word in X_train_version1]\n",
        "X_train_version2_sent = [\" \".join(word) for word in X_train_version2]\n",
        "X_train_version3_sent = [\" \".join(word) for word in X_train_version3]\n",
        "\n",
        "X_test_version1_sent = [\" \".join(word) for word in X_test_version1]\n",
        "X_test_version2_sent = [\" \".join(word) for word in X_test_version2]\n",
        "X_test_version3_sent = [\" \".join(word) for word in X_test_version3]"
      ]
    },
    {
      "cell_type": "markdown",
      "id": "067cebcf",
      "metadata": {
        "id": "067cebcf"
      },
      "source": [
        "### 4. Sentiment classification using Machine Learning"
      ]
    },
    {
      "cell_type": "code",
      "source": [
        "# Vectorize the text\n",
        "vectorizer = TfidfVectorizer(lowercase = False)\n",
        "\n",
        "X_train_version1_sent_vec = vectorizer.fit_transform(X_train_version1_sent)\n",
        "X_test_version1_sent_vec = vectorizer.transform(X_test_version1_sent)\n",
        "\n",
        "X_train_version2_sent_vec = vectorizer.fit_transform(X_train_version2_sent)\n",
        "X_test_version2_sent_vec = vectorizer.transform(X_test_version2_sent)\n",
        "\n",
        "X_train_version3_sent_vec = vectorizer.fit_transform(X_train_version3_sent)\n",
        "X_test_version3_sent_vec  = vectorizer.transform(X_test_version3_sent)"
      ],
      "metadata": {
        "id": "w_Wgkbj5Ogvi"
      },
      "id": "w_Wgkbj5Ogvi",
      "execution_count": 17,
      "outputs": []
    },
    {
      "cell_type": "code",
      "source": [
        "def multinomial_model(X_train_value, y_train_value, X_test_value, y_test_value):\n",
        "    \n",
        "    multinomial_model = MultinomialNB()\n",
        "    cv = StratifiedKFold(n_splits = 5, shuffle = True, random_state = 42)\n",
        "    fitted_model_score = cross_validate(multinomial_model, X_train_value, y_train_value, cv = cv, scoring = \"accuracy\", return_train_score = True)\n",
        "    train_acc = np.mean(fitted_model_score['train_score'])\n",
        "    val_acc = np.mean(fitted_model_score['test_score'])\n",
        "    multinomial_model.fit(X_train_value, y_train_value)\n",
        "    y_pred = multinomial_model.predict(X_test_value)\n",
        "    test_acc = accuracy_score(y_test_value, y_pred)\n",
        "\n",
        "    # Calculate learning curve\n",
        "    train_sizes, train_scores, val_scores = learning_curve(\n",
        "      multinomial_model, X_train_value, y_train_value, cv=5, scoring='accuracy', n_jobs=-1,\n",
        "      train_sizes=np.linspace(0.1, 1.0, 10)\n",
        "      )\n",
        "\n",
        "    # Plot learning curve\n",
        "    plt.plot(train_sizes, np.mean(train_scores, axis=1), label='Training accuracy')\n",
        "    plt.plot(train_sizes, np.mean(val_scores, axis=1), label='Validation accuracy')\n",
        "    plt.title('Learning Curve')\n",
        "    plt.xlabel('Training Set Size')\n",
        "    plt.ylabel('Accuracy')\n",
        "    plt.legend()\n",
        "    plt.show()\n",
        "\n",
        "    return (train_acc, val_acc, test_acc)"
      ],
      "metadata": {
        "id": "Az4gfD2MGWVB"
      },
      "id": "Az4gfD2MGWVB",
      "execution_count": 28,
      "outputs": []
    },
    {
      "cell_type": "code",
      "source": [
        "print(\"Multinomial_model\")\n",
        "print(\"\\nFor Version 1:\\n\")\n",
        "train_acc_version1_multi, val_acc_version1_multi, test_acc_version1_multi = multinomial_model(X_train_version1_sent_vec, y_train, X_test_version1_sent_vec, y_test)\n",
        "print(f\"Training Accuracy score : {val_acc_version1_multi}\")\n",
        "print(f\"Validation Accuracy score : {train_acc_version1_multi}\")\n",
        "print(f\"Testing Accuracy score : {test_acc_version1_multi}\")\n",
        "\n",
        "print(\"\\nFor Version 2:\\n\")\n",
        "train_acc_version2_multi, val_acc_version2_multi, test_acc_version2_multi = multinomial_model(X_train_version2_sent_vec, y_train, X_test_version2_sent_vec, y_test)\n",
        "print(f\"Training Accuracy score : {val_acc_version2_multi}\")\n",
        "print(f\"Validation Accuracy score : {train_acc_version2_multi}\")\n",
        "print(f\"Testing Accuracy score : {test_acc_version2_multi}\")\n",
        "\n",
        "print(\"\\nFor Version 3:\\n\")\n",
        "train_acc_version3_multi, val_acc_version3_multi, test_acc_version3_multi = multinomial_model(X_train_version3_sent_vec, y_train, X_test_version3_sent_vec, y_test)\n",
        "print(f\"Training Accuracy score : {val_acc_version3_multi}\")\n",
        "print(f\"Validation Accuracy score : {train_acc_version3_multi}\")\n",
        "print(f\"Testing Accuracy score : {test_acc_version3_multi}\")"
      ],
      "metadata": {
        "colab": {
          "base_uri": "https://localhost:8080/",
          "height": 1000
        },
        "id": "n3nF1qJ6qNHW",
        "outputId": "e8c9bb06-b906-4151-f2aa-1dfe8823e8dc"
      },
      "id": "n3nF1qJ6qNHW",
      "execution_count": 29,
      "outputs": [
        {
          "output_type": "stream",
          "name": "stdout",
          "text": [
            "Multinomial_model\n",
            "\n",
            "For Version 1:\n",
            "\n"
          ]
        },
        {
          "output_type": "display_data",
          "data": {
            "text/plain": [
              "<Figure size 432x288 with 1 Axes>"
            ],
            "image/png": "[encoded data removed]"
          },
          "metadata": {
            "needs_background": "light"
          }
        },
        {
          "output_type": "stream",
          "name": "stdout",
          "text": [
            "Training Accuracy score : 0.8487633333333333\n",
            "Validation Accuracy score : 0.8944841666666667\n",
            "Testing Accuracy score : 0.84832\n",
            "\n",
            "For Version 2:\n",
            "\n"
          ]
        },
        {
          "output_type": "display_data",
          "data": {
            "text/plain": [
              "<Figure size 432x288 with 1 Axes>"
            ],
            "image/png": "[encoded data removed]"
          },
          "metadata": {
            "needs_background": "light"
          }
        },
        {
          "output_type": "stream",
          "name": "stdout",
          "text": [
            "Training Accuracy score : 0.8430533333333333\n",
            "Validation Accuracy score : 0.8842766666666666\n",
            "Testing Accuracy score : 0.84149\n",
            "\n",
            "For Version 3:\n",
            "\n"
          ]
        },
        {
          "output_type": "display_data",
          "data": {
            "text/plain": [
              "<Figure size 432x288 with 1 Axes>"
            ],
            "image/png": "[encoded data removed]"
          },
          "metadata": {
            "needs_background": "light"
          }
        },
        {
          "output_type": "stream",
          "name": "stdout",
          "text": [
            "Training Accuracy score : 0.8407900000000001\n",
            "Validation Accuracy score : 0.8816208333333332\n",
            "Testing Accuracy score : 0.84055\n"
          ]
        }
      ]
    },
    {
      "cell_type": "code",
      "source": [
        "def bernoulli_model(X_train_value, y_train_value, X_test_value, y_test_value):\n",
        "    \n",
        "    bernoulli_model = BernoulliNB()\n",
        "    cv = StratifiedKFold(n_splits = 5, shuffle = True, random_state = 42)\n",
        "    fitted_model_score = cross_validate(bernoulli_model, X_train_value, y_train_value, cv = cv, scoring = \"accuracy\", return_train_score = True)\n",
        "    train_acc = np.mean(fitted_model_score['train_score'])\n",
        "    val_acc = np.mean(fitted_model_score['test_score'])\n",
        "    bernoulli_model.fit(X_train_value, y_train_value)\n",
        "    y_pred = bernoulli_model.predict(X_test_value)\n",
        "    test_acc = accuracy_score(y_test_value, y_pred)\n",
        "\n",
        "    # Calculate learning curve\n",
        "    train_sizes, train_scores, val_scores = learning_curve(\n",
        "      bernoulli_model, X_train_value, y_train_value, cv=5, scoring='accuracy', n_jobs=-1,\n",
        "      train_sizes=np.linspace(0.1, 1.0, 10)\n",
        "      )\n",
        "\n",
        "    # Plot learning curve\n",
        "    plt.plot(train_sizes, np.mean(train_scores, axis=1), label='Training accuracy')\n",
        "    plt.plot(train_sizes, np.mean(val_scores, axis=1), label='Validation accuracy')\n",
        "    plt.title('Learning Curve')\n",
        "    plt.xlabel('Training Set Size')\n",
        "    plt.ylabel('Accuracy')\n",
        "    plt.legend()\n",
        "    plt.show()\n",
        "\n",
        "    return (train_acc, val_acc, test_acc)"
      ],
      "metadata": {
        "id": "9MPEi6-_CtSZ"
      },
      "id": "9MPEi6-_CtSZ",
      "execution_count": 30,
      "outputs": []
    },
    {
      "cell_type": "code",
      "source": [
        "print(\"Bernoulli_model \")\n",
        "print(\"\\nFor Version 1:\\n\")\n",
        "train_acc_version1_ber, val_acc_version1_ber, test_acc_version1_ber = bernoulli_model(X_train_version1_sent_vec, y_train, X_test_version1_sent_vec, y_test)\n",
        "print(f\"Training Accuracy score : {val_acc_version1_ber}\")\n",
        "print(f\"Validation Accuracy score : {train_acc_version1_ber}\")\n",
        "print(f\"Testing Accuracy score : {test_acc_version1_ber}\")\n",
        "\n",
        "print(\"\\nFor Version 2:\\n\")\n",
        "train_acc_version2_ber, val_acc_version2_ber, test_acc_version2_ber = bernoulli_model(X_train_version2_sent_vec, y_train, X_test_version2_sent_vec, y_test)\n",
        "print(f\"Training Accuracy score : {val_acc_version2_ber}\")\n",
        "print(f\"Validation Accuracy score : {train_acc_version2_ber}\")\n",
        "print(f\"Testing Accuracy score : {test_acc_version2_ber}\")\n",
        "\n",
        "print(\"\\nFor Version 3:\\n\")\n",
        "train_acc_version3_ber, val_acc_version3_ber, test_acc_version3_ber = bernoulli_model(X_train_version3_sent_vec, y_train, X_test_version3_sent_vec, y_test)\n",
        "print(f\"Training Accuracy score : {val_acc_version3_ber}\")\n",
        "print(f\"Validation Accuracy score : {train_acc_version3_ber}\")\n",
        "print(f\"Testing Accuracy score : {test_acc_version3_ber}\")"
      ],
      "metadata": {
        "colab": {
          "base_uri": "https://localhost:8080/",
          "height": 1000
        },
        "id": "MrR92eHMGKzF",
        "outputId": "d882efda-85a7-455c-d3a2-04198ce707a9"
      },
      "id": "MrR92eHMGKzF",
      "execution_count": 31,
      "outputs": [
        {
          "output_type": "stream",
          "name": "stdout",
          "text": [
            "Bernoulli_model \n",
            "\n",
            "For Version 1:\n",
            "\n"
          ]
        },
        {
          "output_type": "display_data",
          "data": {
            "text/plain": [
              "<Figure size 432x288 with 1 Axes>"
            ],
            "image/png": "[encoded data removed]"
          },
          "metadata": {
            "needs_background": "light"
          }
        },
        {
          "output_type": "stream",
          "name": "stdout",
          "text": [
            "Training Accuracy score : 0.8550633333333334\n",
            "Validation Accuracy score : 0.9032666666666668\n",
            "Testing Accuracy score : 0.85665\n",
            "\n",
            "For Version 2:\n",
            "\n"
          ]
        },
        {
          "output_type": "display_data",
          "data": {
            "text/plain": [
              "<Figure size 432x288 with 1 Axes>"
            ],
            "image/png": "[encoded data removed]"
          },
          "metadata": {
            "needs_background": "light"
          }
        },
        {
          "output_type": "stream",
          "name": "stdout",
          "text": [
            "Training Accuracy score : 0.8496666666666666\n",
            "Validation Accuracy score : 0.8922908333333334\n",
            "Testing Accuracy score : 0.85082\n",
            "\n",
            "For Version 3:\n",
            "\n"
          ]
        },
        {
          "output_type": "display_data",
          "data": {
            "text/plain": [
              "<Figure size 432x288 with 1 Axes>"
            ],
            "image/png": "[encoded data removed]"
          },
          "metadata": {
            "needs_background": "light"
          }
        },
        {
          "output_type": "stream",
          "name": "stdout",
          "text": [
            "Training Accuracy score : 0.8481500000000001\n",
            "Validation Accuracy score : 0.8900141666666667\n",
            "Testing Accuracy score : 0.84881\n"
          ]
        }
      ]
    },
    {
      "cell_type": "code",
      "source": [
        "def logistic_regression_model(X_train_value, y_train_value, X_test_value, y_test_value):\n",
        "    \n",
        "    logisticregression_model = LogisticRegression(max_iter = 1000)\n",
        "    cv = StratifiedKFold(n_splits = 5, shuffle = True, random_state = 42)\n",
        "    fitted_model_score = cross_validate(logisticregression_model, X_train_value, y_train_value, cv = cv, scoring = \"accuracy\", return_train_score = True)\n",
        "    train_acc = np.mean(fitted_model_score['train_score'])\n",
        "    val_acc = np.mean(fitted_model_score['test_score'])\n",
        "    logisticregression_model.fit(X_train_value, y_train_value)\n",
        "    y_pred = logisticregression_model.predict(X_test_value)\n",
        "    test_acc = accuracy_score(y_test_value, y_pred)\n",
        "\n",
        "    # Calculate learning curve\n",
        "    train_sizes, train_scores, val_scores = learning_curve(\n",
        "      logisticregression_model, X_train_value, y_train_value, cv=5, scoring='accuracy', n_jobs=-1,\n",
        "      train_sizes=np.linspace(0.1, 1.0, 10)\n",
        "      )\n",
        "\n",
        "    # Plot learning curve\n",
        "    plt.plot(train_sizes, np.mean(train_scores, axis=1), label='Training accuracy')\n",
        "    plt.plot(train_sizes, np.mean(val_scores, axis=1), label='Validation accuracy')\n",
        "    plt.title('Learning Curve')\n",
        "    plt.xlabel('Training Set Size')\n",
        "    plt.ylabel('Accuracy')\n",
        "    plt.legend()\n",
        "    plt.show()\n",
        "\n",
        "    return (train_acc, val_acc, test_acc)"
      ],
      "metadata": {
        "id": "gJGYBkkHG-bt"
      },
      "id": "gJGYBkkHG-bt",
      "execution_count": 32,
      "outputs": []
    },
    {
      "cell_type": "code",
      "source": [
        "print(\"Logistic_regression_model \")\n",
        "print(\"\\nFor Version 1:\\n\")\n",
        "train_acc_version1_log, val_acc_version1_log, test_acc_version1_log = logistic_regression_model(X_train_version1_sent_vec, y_train, X_test_version1_sent_vec, y_test)\n",
        "print(f\"Training Accuracy score : {val_acc_version1_log}\")\n",
        "print(f\"Validation Accuracy score : {train_acc_version1_log}\")\n",
        "print(f\"Testing Accuracy score : {test_acc_version1_log}\")\n",
        "\n",
        "print(\"\\nFor Version 2:\\n\")\n",
        "train_acc_version2_log, val_acc_version2_log, test_acc_version2_log = logistic_regression_model(X_train_version2_sent_vec, y_train, X_test_version2_sent_vec, y_test)\n",
        "print(f\"Training Accuracy score : {val_acc_version2_log}\")\n",
        "print(f\"Validation Accuracy score : {train_acc_version2_log}\")\n",
        "print(f\"Testing Accuracy score : {test_acc_version2_log}\")\n",
        "\n",
        "print(\"\\nFor Version 3:\\n\")\n",
        "train_acc_version3_log, val_acc_version3_log, test_acc_version3_log = logistic_regression_model(X_train_version3_sent_vec, y_train, X_test_version3_sent_vec, y_test)\n",
        "print(f\"Training Accuracy score : {val_acc_version3_log}\")\n",
        "print(f\"Validation Accuracy score : {train_acc_version3_log}\")\n",
        "print(f\"Testing Accuracy score : {test_acc_version3_log}\")"
      ],
      "metadata": {
        "colab": {
          "base_uri": "https://localhost:8080/",
          "height": 1000
        },
        "id": "QrWsi0BoHH6M",
        "outputId": "926c040d-54a1-4dfa-f8e7-4fa39757a396"
      },
      "id": "QrWsi0BoHH6M",
      "execution_count": 33,
      "outputs": [
        {
          "output_type": "stream",
          "name": "stdout",
          "text": [
            "Logistic_regression_model \n",
            "\n",
            "For Version 1:\n",
            "\n"
          ]
        },
        {
          "output_type": "display_data",
          "data": {
            "text/plain": [
              "<Figure size 432x288 with 1 Axes>"
            ],
            "image/png": "[encoded data removed]"
          },
          "metadata": {
            "needs_background": "light"
          }
        },
        {
          "output_type": "stream",
          "name": "stdout",
          "text": [
            "Training Accuracy score : 0.8910333333333333\n",
            "Validation Accuracy score : 0.9189225000000001\n",
            "Testing Accuracy score : 0.89354\n",
            "\n",
            "For Version 2:\n",
            "\n"
          ]
        },
        {
          "output_type": "display_data",
          "data": {
            "text/plain": [
              "<Figure size 432x288 with 1 Axes>"
            ],
            "image/png": "[encoded data removed]"
          },
          "metadata": {
            "needs_background": "light"
          }
        },
        {
          "output_type": "stream",
          "name": "stdout",
          "text": [
            "Training Accuracy score : 0.8908166666666666\n",
            "Validation Accuracy score : 0.9152549999999999\n",
            "Testing Accuracy score : 0.89421\n",
            "\n",
            "For Version 3:\n",
            "\n"
          ]
        },
        {
          "output_type": "display_data",
          "data": {
            "text/plain": [
              "<Figure size 432x288 with 1 Axes>"
            ],
            "image/png": "[encoded data removed]"
          },
          "metadata": {
            "needs_background": "light"
          }
        },
        {
          "output_type": "stream",
          "name": "stdout",
          "text": [
            "Training Accuracy score : 0.88788\n",
            "Validation Accuracy score : 0.9116333333333333\n",
            "Testing Accuracy score : 0.89084\n"
          ]
        }
      ]
    },
    {
      "cell_type": "markdown",
      "source": [
        "\n",
        "Three classification techniques—Multinomial NB, Bernoulli NB and Logistic Regression—were tested.\n",
        "\n",
        "For performance comparison of the model on each version, we used cross-validation with five folds, and the average accuracy score was used as the final metric. In addition, we used stratified K fold to keep the positive:negative fold ratio constant.\n",
        "\n",
        "**Multinomial NB** : After calculating accuracy score it was seen that the very first version gives good results with training accuracy as 84.9% and test accuracy as 84.8%\n",
        "\n",
        "**Bernoulli NB** : for bernoulli model the trainging accuracy score was 85.5% and testing accuracy score was 85.7%, which is better than the multinomial model but still there is no significant difference between them.\n",
        "\n",
        "**Logistic regression** : The best result was given by logistic regression model which gave training accuracy as 89.1% which is less than testing accuracy which came in as 89.3%. But while looking at the curve it can be seen that this model is slight overfitting and long runtime.\n",
        "\n",
        "As a result, bernoulli and multinomial model performed pretty much the same but bernoulli model gave a little better accuracies then the other one so, going forward with **Bernoulli as the best model**.\n",
        "\n"
      ],
      "metadata": {
        "id": "UUsy574Dfwf1"
      },
      "id": "UUsy574Dfwf1"
    },
    {
      "cell_type": "markdown",
      "id": "333ba5cb",
      "metadata": {
        "id": "333ba5cb"
      },
      "source": [
        "### 5. Sentiment classification using VADER sentiment lexicon"
      ]
    },
    {
      "cell_type": "code",
      "execution_count": 37,
      "id": "58a6ebe4",
      "metadata": {
        "colab": {
          "base_uri": "https://localhost:8080/",
          "height": 536
        },
        "id": "58a6ebe4",
        "outputId": "e5568276-ac35-4835-d014-b46683080cd4"
      },
      "outputs": [
        {
          "output_type": "stream",
          "name": "stdout",
          "text": [
            "\n",
            "Version 1:\n",
            "\n",
            "f1 score : 0.6504195025600359\n",
            "precision : 0.7410295390930333\n",
            "recall : 0.67513\n",
            "accuracy : 0.67513\n",
            "\n",
            "Version 2:\n",
            "\n",
            "f1 score : 0.6501689147476533\n",
            "precision : 0.7409272071195315\n",
            "recall : 0.67494\n",
            "accuracy : 0.67494\n",
            "\n",
            "Version 3:\n",
            "\n",
            "f1 score : 0.6498364907654697\n",
            "precision : 0.7416291793477571\n",
            "recall : 0.67485\n",
            "accuracy : 0.67485\n",
            "Classification results using VADER \n"
          ]
        },
        {
          "output_type": "execute_result",
          "data": {
            "text/plain": [
              "              Testing\n",
              "0  Version 1  0.67513\n",
              "1  Version 2  0.67494\n",
              "2  Version 3  0.67485"
            ],
            "text/html": [
              "\n",
              "  <div id=\"df-8bb96c7a-6349-4d79-b3fc-7de150590a19\">\n",
              "    <div class=\"colab-df-container\">\n",
              "      <div>\n",
              "<style scoped>\n",
              "    .dataframe tbody tr th:only-of-type {\n",
              "        vertical-align: middle;\n",
              "    }\n",
              "\n",
              "    .dataframe tbody tr th {\n",
              "        vertical-align: top;\n",
              "    }\n",
              "\n",
              "    .dataframe thead th {\n",
              "        text-align: right;\n",
              "    }\n",
              "</style>\n",
              "<table border=\"1\" class=\"dataframe\">\n",
              "  <thead>\n",
              "    <tr style=\"text-align: right;\">\n",
              "      <th></th>\n",
              "      <th></th>\n",
              "      <th>Testing</th>\n",
              "    </tr>\n",
              "  </thead>\n",
              "  <tbody>\n",
              "    <tr>\n",
              "      <th>0</th>\n",
              "      <td>Version 1</td>\n",
              "      <td>0.67513</td>\n",
              "    </tr>\n",
              "    <tr>\n",
              "      <th>1</th>\n",
              "      <td>Version 2</td>\n",
              "      <td>0.67494</td>\n",
              "    </tr>\n",
              "    <tr>\n",
              "      <th>2</th>\n",
              "      <td>Version 3</td>\n",
              "      <td>0.67485</td>\n",
              "    </tr>\n",
              "  </tbody>\n",
              "</table>\n",
              "</div>\n",
              "      <button class=\"colab-df-convert\" onclick=\"convertToInteractive('df-8bb96c7a-6349-4d79-b3fc-7de150590a19')\"\n",
              "              title=\"Convert this dataframe to an interactive table.\"\n",
              "              style=\"display:none;\">\n",
              "        \n",
              "  <svg xmlns=\"http://www.w3.org/2000/svg\" height=\"24px\"viewBox=\"0 0 24 24\"\n",
              "       width=\"24px\">\n",
              "    <path d=\"M0 0h24v24H0V0z\" fill=\"none\"/>\n",
              "    <path d=\"M18.56 5.44l.94 2.06.94-2.06 2.06-.94-2.06-.94-.94-2.06-.94 2.06-2.06.94zm-11 1L8.5 8.5l.94-2.06 2.06-.94-2.06-.94L8.5 2.5l-.94 2.06-2.06.94zm10 10l.94 2.06.94-2.06 2.06-.94-2.06-.94-.94-2.06-.94 2.06-2.06.94z\"/><path d=\"M17.41 7.96l-1.37-1.37c-.4-.4-.92-.59-1.43-.59-.52 0-1.04.2-1.43.59L10.3 9.45l-7.72 7.72c-.78.78-.78 2.05 0 2.83L4 21.41c.39.39.9.59 1.41.59.51 0 1.02-.2 1.41-.59l7.78-7.78 2.81-2.81c.8-.78.8-2.07 0-2.86zM5.41 20L4 18.59l7.72-7.72 1.47 1.35L5.41 20z\"/>\n",
              "  </svg>\n",
              "      </button>\n",
              "      \n",
              "  <style>\n",
              "    .colab-df-container {\n",
              "      display:flex;\n",
              "      flex-wrap:wrap;\n",
              "      gap: 12px;\n",
              "    }\n",
              "\n",
              "    .colab-df-convert {\n",
              "      background-color: #E8F0FE;\n",
              "      border: none;\n",
              "      border-radius: 50%;\n",
              "      cursor: pointer;\n",
              "      display: none;\n",
              "      fill: #1967D2;\n",
              "      height: 32px;\n",
              "      padding: 0 0 0 0;\n",
              "      width: 32px;\n",
              "    }\n",
              "\n",
              "    .colab-df-convert:hover {\n",
              "      background-color: #E2EBFA;\n",
              "      box-shadow: 0px 1px 2px rgba(60, 64, 67, 0.3), 0px 1px 3px 1px rgba(60, 64, 67, 0.15);\n",
              "      fill: #174EA6;\n",
              "    }\n",
              "\n",
              "    [theme=dark] .colab-df-convert {\n",
              "      background-color: #3B4455;\n",
              "      fill: #D2E3FC;\n",
              "    }\n",
              "\n",
              "    [theme=dark] .colab-df-convert:hover {\n",
              "      background-color: #434B5C;\n",
              "      box-shadow: 0px 1px 3px 1px rgba(0, 0, 0, 0.15);\n",
              "      filter: drop-shadow(0px 1px 2px rgba(0, 0, 0, 0.3));\n",
              "      fill: #FFFFFF;\n",
              "    }\n",
              "  </style>\n",
              "\n",
              "      <script>\n",
              "        const buttonEl =\n",
              "          document.querySelector('#df-8bb96c7a-6349-4d79-b3fc-7de150590a19 button.colab-df-convert');\n",
              "        buttonEl.style.display =\n",
              "          google.colab.kernel.accessAllowed ? 'block' : 'none';\n",
              "\n",
              "        async function convertToInteractive(key) {\n",
              "          const element = document.querySelector('#df-8bb96c7a-6349-4d79-b3fc-7de150590a19');\n",
              "          const dataTable =\n",
              "            await google.colab.kernel.invokeFunction('convertToInteractive',\n",
              "                                                     [key], {});\n",
              "          if (!dataTable) return;\n",
              "\n",
              "          const docLinkHtml = 'Like what you see? Visit the ' +\n",
              "            '<a target=\"_blank\" href=https://colab.research.google.com/notebooks/data_table.ipynb>data table notebook</a>'\n",
              "            + ' to learn more about interactive tables.';\n",
              "          element.innerHTML = '';\n",
              "          dataTable['output_type'] = 'display_data';\n",
              "          await google.colab.output.renderOutput(dataTable, element);\n",
              "          const docLink = document.createElement('div');\n",
              "          docLink.innerHTML = docLinkHtml;\n",
              "          element.appendChild(docLink);\n",
              "        }\n",
              "      </script>\n",
              "    </div>\n",
              "  </div>\n",
              "  "
            ]
          },
          "metadata": {},
          "execution_count": 37
        }
      ],
      "source": [
        "def VADER_analysis(test):\n",
        "  analyser = SentimentIntensityAnalyzer()\n",
        "  y_pred = []\n",
        "  for text in test:\n",
        "      score = analyser.polarity_scores(text)\n",
        "      if score['compound'] >= 0:\n",
        "          y_pred.append(\"positive\")\n",
        "      else:\n",
        "          y_pred.append(\"negative\")\n",
        "  return y_pred\n",
        "\n",
        "def print_acc_metrics(y_pred,y_test):\n",
        "  f1 = f1_score(y_test, y_pred, average=\"weighted\")\n",
        "  print(f\"f1 score : {f1}\")\n",
        "  prec = precision_score(y_test, y_pred, average=\"weighted\")\n",
        "  print(f\"precision : {prec}\")\n",
        "  rec = recall_score(y_test, y_pred, average=\"weighted\")\n",
        "  print(f\"recall : {rec}\")\n",
        "  acc = accuracy_score(y_test, y_pred)\n",
        "  print(f\"accuracy : {acc}\")\n",
        "  return acc\n",
        "\n",
        "print(\"\\nVersion 1:\\n\")\n",
        "y_pred_ver1 = VADER_analysis(X_test_version1_sent)\n",
        "vader_version1 = print_acc_metrics(y_pred_ver1,y_test)\n",
        "\n",
        "print(\"\\nVersion 2:\\n\")\n",
        "y_pred_ver2 = VADER_analysis(X_test_version2_sent)\n",
        "vader_version2 = print_acc_metrics(y_pred_ver2,y_test)\n",
        "\n",
        "print(\"\\nVersion 3:\\n\")\n",
        "y_pred_ver3 = VADER_analysis(X_test_version3_sent)\n",
        "vader_version3 = print_acc_metrics(y_pred_ver3,y_test)\n",
        "\n",
        "test_accs =[vader_version1,vader_version2,vader_version3]\n",
        "\n",
        "rows = [\"Version 1\",\"Version 2\",\"Version 3\"]\n",
        "\n",
        "print(\"Classification results using VADER \")\n",
        "vader_df = pd.DataFrame(list(zip(rows, test_accs)),columns = [\"\",\"Testing\"])\n",
        "vader_df"
      ]
    },
    {
      "cell_type": "markdown",
      "source": [
        "When comparing the results obtained by using VADER with the previously selected best model which is Bernoulli, it can be seen that it is not giving better accuracy instead it's even less around 67%. \n",
        "\n",
        "Thus, as a result it can be said that VADER can be used but for complex sentiment analysis Bernoulli classifier works best."
      ],
      "metadata": {
        "id": "VQK9z6n6qpnT"
      },
      "id": "VQK9z6n6qpnT"
    },
    {
      "cell_type": "markdown",
      "id": "ba7ea3a2",
      "metadata": {
        "id": "ba7ea3a2"
      },
      "source": [
        "### 6. (optional challenge 3 points) Combine VADER with the classifier"
      ]
    },
    {
      "cell_type": "code",
      "execution_count": null,
      "id": "99cf2087",
      "metadata": {
        "id": "99cf2087"
      },
      "outputs": [],
      "source": []
    },
    {
      "cell_type": "markdown",
      "id": "23d3d17f",
      "metadata": {
        "id": "23d3d17f"
      },
      "source": [
        "### 7. References"
      ]
    },
    {
      "cell_type": "markdown",
      "source": [
        "https://towardsdatascience.com/a-beginners-guide-to-sentiment-analysis-in-python-95e354ea84f6"
      ],
      "metadata": {
        "id": "gPWysSCksMSN"
      },
      "id": "gPWysSCksMSN"
    },
    {
      "cell_type": "markdown",
      "source": [
        "https://www.analyticsvidhya.com/blog/2021/07/performing-sentiment-analysis-with-naive-bayes-classifier/"
      ],
      "metadata": {
        "id": "5c5DbCtQtU5J"
      },
      "id": "5c5DbCtQtU5J"
    },
    {
      "cell_type": "markdown",
      "source": [
        "https://www.analyticsvidhya.com/blog/2022/11/explaining-sparse-datasets-with-practical-examples/"
      ],
      "metadata": {
        "id": "2Rpi06QvtN-t"
      },
      "id": "2Rpi06QvtN-t"
    }
  ],
  "metadata": {
    "kernelspec": {
      "display_name": "Python 3.9.13 ('base')",
      "language": "python",
      "name": "python3"
    },
    "language_info": {
      "codemirror_mode": {
        "name": "ipython",
        "version": 3
      },
      "file_extension": ".py",
      "mimetype": "text/x-python",
      "name": "python",
      "nbconvert_exporter": "python",
      "pygments_lexer": "ipython3",
      "version": "3.9.13"
    },
    "vscode": {
      "interpreter": {
        "hash": "508bb695b58eda1440b2aa2a6ea312ea56e80f2703cc27167577456ce10241bc"
      }
    },
    "colab": {
      "provenance": []
    }
  },
  "nbformat": 4,
  "nbformat_minor": 5
}